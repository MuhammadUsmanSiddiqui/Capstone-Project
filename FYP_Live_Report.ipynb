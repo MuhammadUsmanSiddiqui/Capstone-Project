{
  "cells": [
    {
      "attachments": {},
      "cell_type": "markdown",
      "metadata": {
        "id": "5ZKXSCg5gBrn"
      },
      "source": [
        "<h1 align=\"center\"> FYP Live Report </h1>\n"
      ]
    },
    {
      "cell_type": "markdown",
      "metadata": {
        "id": "pHiRE-q4gBrs"
      },
      "source": [
        "## Imports and stuff\n",
        "\n",
        "The library titled py_dss_interface comes with its own version of openDSS and so, we do not need to install openDSS separately."
      ]
    },
    {
      "cell_type": "code",
      "execution_count": 1,
      "metadata": {
        "colab": {
          "base_uri": "https://localhost:8080/"
        },
        "id": "1f2ySyyMgBrt",
        "outputId": "7a81bb41-4bc1-4865-eead-3e854eb1ceba"
      },
      "outputs": [],
      "source": [
        "import py_dss_interface\n",
        "import os\n",
        "import pathlib\n",
        "import matplotlib.pyplot as plt\n",
        "import numpy as np\n",
        "import math"
      ]
    },
    {
      "cell_type": "markdown",
      "metadata": {
        "id": "Ihh9bQkGgBrv"
      },
      "source": [
        "Next, we set the path of the dss file. I would prefer to use the python OS module so that writing the path is never an issue again, but unfortunately in live scripts such as these, we are prone to "
      ]
    },
    {
      "cell_type": "code",
      "execution_count": 12,
      "metadata": {
        "id": "P80j_N2egBrv"
      },
      "outputs": [
        {
          "name": "stdout",
          "output_type": "stream",
          "text": [
            "..\\13Bus\\IEEE13Nodeckt.dss\n"
          ]
        }
      ],
      "source": [
        "dss_file = \"..\\\\13Bus\\IEEE13Nodeckt.dss\"\n",
        "\n",
        "print(dss_file)"
      ]
    },
    {
      "cell_type": "markdown",
      "metadata": {
        "id": "LfM-DyOHgBrw"
      },
      "source": [
        "Creating a variable of the self defined data type as shown"
      ]
    },
    {
      "cell_type": "code",
      "execution_count": 9,
      "metadata": {
        "colab": {
          "base_uri": "https://localhost:8080/",
          "height": 311
        },
        "id": "yczmT1GFgBrw",
        "outputId": "58bb6290-9330-4026-c27d-f063c59fff75"
      },
      "outputs": [
        {
          "name": "stdout",
          "output_type": "stream",
          "text": [
            "OpenDSS Started successfully! \n",
            "OpenDSS Version 9.4.0.1 (64-bit build); License Status: Open \n",
            "\n",
            "\n"
          ]
        }
      ],
      "source": [
        "dss = py_dss_interface.DSSDLL()"
      ]
    },
    {
      "cell_type": "markdown",
      "metadata": {
        "id": "rkNic75UgBrx"
      },
      "source": [
        "Compiling the script, which is automatically executed due to \"solve\" command in the code"
      ]
    },
    {
      "cell_type": "code",
      "execution_count": 11,
      "metadata": {
        "id": "-xiPiaxSgBry"
      },
      "outputs": [
        {
          "data": {
            "text/plain": [
              "''"
            ]
          },
          "execution_count": 11,
          "metadata": {},
          "output_type": "execute_result"
        }
      ],
      "source": [
        "dss.text(f\"compile [{dss_file}]\")"
      ]
    },
    {
      "attachments": {},
      "cell_type": "markdown",
      "metadata": {},
      "source": [
        "Next, we try to get the voltages, powers, and currents at every node in the circuit. Next, we will attempt to do a timeseries simulation of the circuit where we will sweep one load's values over some duration an examine the effects on the parameters of other components.\n"
      ]
    },
    {
      "cell_type": "code",
      "execution_count": 15,
      "metadata": {},
      "outputs": [
        {
          "name": "stdout",
          "output_type": "stream",
          "text": [
            "['671', '692']\n"
          ]
        }
      ],
      "source": [
        "loads = [\n",
        "\"Load.671\",\n",
        "\"Load.634a\",\n",
        "\"Load.634b\",\n",
        "\"Load.634c\",\n",
        "\"Load.645\",\n",
        "\"Load.646\",\n",
        "\"Load.692\",\n",
        "\"Load.675a\",\n",
        "\"Load.675b\",\n",
        "\"Load.675c\",\n",
        "\"Load.611\",\n",
        "\"Load.652\",\n",
        "\"Load.670a\",\n",
        "\"Load.670b\",\n",
        "\"Load.670c\"\n",
        "]\n",
        "\n",
        "lines = [\n",
        "\"Line.650632\",\n",
        "\"Line.632670\",\n",
        "\"Line.670671\",\n",
        "\"Line.671680\",\n",
        "\"Line.632633\",\n",
        "\"Line.632645\",\n",
        "\"Line.645646\",\n",
        "\"Line.692675\",\n",
        "\"Line.671684\",\n",
        "\"Line.684611\",\n",
        "\"Line.684652\",\n",
        "\"Line.671692\"\n",
        "]\n",
        "\n",
        "caps = [\n",
        "\"Capacitor.Cap1\",\n",
        "\"Capacitor.Cap2\"\n",
        "]\n",
        "\n",
        "transformers = [\n",
        "\"Transformer.Sub\",\n",
        "\"Transformer.XFM1\",\n",
        "\"Transformer.Reg1\",\n",
        "\"Transformer.Reg2\",\n",
        "\"Transformer.Reg3\"\n",
        "]\n",
        "\n",
        "regulators = [\n",
        "\"regcontrol.Reg1\",\n",
        "\"regcontrol.Reg2\",\n",
        "\"regcontrol.Reg3\"\n",
        "]\n",
        "\n",
        "#buses = dss.cktelement_read_bus_names()\n",
        "#print(buses)\n",
        "\n",
        "elements = lines"
      ]
    },
    {
      "attachments": {},
      "cell_type": "markdown",
      "metadata": {},
      "source": [
        "show_before_and_after function is defined to show the voltages before and after the load is changed. This function is called in the next cell. It does so by generating 2 bar charts for the voltages before and after the load is changed. The function takes in the load name as a parameter and then uses the load name to get the bus name. The bus name is then used to get the voltages before and after the load is changed. The voltages are then plotted in a bar chart. The function returns the voltages before and after the load is changed."
      ]
    },
    {
      "cell_type": "code",
      "execution_count": 6,
      "metadata": {},
      "outputs": [],
      "source": [
        "def show_before_and_after(dict, item, parameter):\n",
        "    fig, ax = plt.subplots(figsize=(6,6))\n",
        "    for i in range(0, len(dict[item][parameter][0]), 2):\n",
        "        ax.arrow(0, 0, dict[item][parameter][0][i], dict[item][parameter][0][i+1], head_width=10, head_length=10, fc='blue', ec='blue')\n",
        "        ax.arrow(0, 0, dict[item][parameter][1][i], dict[item][parameter][1][i+1], head_width=10, head_length=10, fc='red', ec='red')\n",
        "    ax.grid(True)\n",
        "    #ax.legend(['Before'])\n",
        "    ax.legend(['Before', 'After'])\n",
        "    ax.set_xlabel('Real Axis (A)')\n",
        "    ax.set_ylabel('Imaginary Axis (A)')\n",
        "    title = 'Complex ' + parameter + ' Before ' + 'and After'\n",
        "    ax.set_title(title)\n",
        "    plt.show(block=False)"
      ]
    },
    {
      "attachments": {},
      "cell_type": "markdown",
      "metadata": {},
      "source": []
    },
    {
      "cell_type": "code",
      "execution_count": 13,
      "metadata": {},
      "outputs": [],
      "source": [
        "def show_voltages(col):\n",
        "    buses_list = dss.circuit_all_node_names()\n",
        "    bus_voltages = dss.circuit_all_bus_vmag_pu()\n",
        "    fig = plt.figure(figsize = (75, 5))\n",
        "    plt.bar(buses_list, bus_voltages, color =col)\n",
        "    plt.xlabel(\"Nodes\")\n",
        "    plt.ylabel(\"Voltage (reference to ground in V)\")\n",
        "    plt.title(\"Voltage at each node in the circuit\")\n",
        "    plt.show(block=False)\n",
        "    return"
      ]
    },
    {
      "attachments": {},
      "cell_type": "markdown",
      "metadata": {},
      "source": [
        "store_values function is called when some change has been made to a circuit, it stores the power and current values at all the pd and pc elements of the circuit."
      ]
    },
    {
      "cell_type": "code",
      "execution_count": 17,
      "metadata": {},
      "outputs": [],
      "source": [
        "def store_values():\n",
        "    for load in loads:\n",
        "        dss.circuit_set_active_element(load) \n",
        "        load_dict[load][\"current\"].append(dss.cktelement_currents())\n",
        "        load_dict[load][\"power\"].append(dss.cktelement_powers())\n",
        "    for line in lines:\n",
        "        dss.circuit_set_active_element(line) \n",
        "        line_dict[line][\"current\"].append(dss.cktelement_currents())\n",
        "        line_dict[line][\"power\"].append(dss.cktelement_powers())\n",
        "    for cap in caps:\n",
        "        dss.circuit_set_active_element(cap) \n",
        "        cap_dict[cap][\"current\"].append(dss.cktelement_currents())\n",
        "        cap_dict[cap][\"power\"].append(dss.cktelement_powers())\n",
        "    for transformer in transformers:\n",
        "        dss.circuit_set_active_element(transformer) \n",
        "        transformer_dict[transformer][\"current\"].append(dss.cktelement_currents())\n",
        "        transformer_dict[transformer][\"power\"].append(dss.cktelement_powers())\n",
        "    for regulator in regulators:\n",
        "        dss.circuit_set_active_element(regulator) \n",
        "        regulator_dict[regulator][\"current\"].append(dss.cktelement_currents())\n",
        "        regulator_dict[regulator][\"power\"].append(dss.cktelement_powers())\n"
      ]
    },
    {
      "attachments": {},
      "cell_type": "markdown",
      "metadata": {},
      "source": [
        "change_loads function is used to change the load values of the circuit. The function takes in the name of the load, the phase, and the value to be changed to. The function then changes the load value and then solves the circuit. The function returns the voltages, powers, and currents at every node in the circuit."
      ]
    },
    {
      "cell_type": "code",
      "execution_count": 31,
      "metadata": {},
      "outputs": [],
      "source": [
        "def change_loads(load, value):\n",
        "    dss.text(f\"compile [{dss_file}]\")\n",
        "    dss.text(f\"solve\")\n",
        "    dss.loads_write_name(load.split(\".\")[-1]) \n",
        "    dss.loads_write_kw(value) \n",
        "    dss.text(f\"solve\")\n",
        "    store_values() "
      ]
    },
    {
      "cell_type": "code",
      "execution_count": 19,
      "metadata": {},
      "outputs": [],
      "source": [
        "def make_dicts():\n",
        "    load_dict = {}\n",
        "    for load in loads:\n",
        "        load_dict[load] = {\"power\":[], \"current\":[]}\n",
        "    line_dict = {}\n",
        "    for line in lines:\n",
        "        line_dict[line] = {\"power\":[], \"current\":[]}\n",
        "    cap_dict = {}\n",
        "    for cap in caps:\n",
        "        cap_dict[cap] = {\"power\":[], \"current\":[]}\n",
        "    transformer_dict = {}\n",
        "    for transformer in transformers:\n",
        "        transformer_dict[transformer] = {\"power\":[], \"current\":[]}\n",
        "    regulator_dict = {}\n",
        "    for regulator in regulators:\n",
        "        regulator_dict[regulator] = {\"power\":[], \"current\":[]} \n",
        "    return load_dict, line_dict, cap_dict, transformer_dict, regulator_dict\n",
        "    "
      ]
    },
    {
      "cell_type": "code",
      "execution_count": 27,
      "metadata": {},
      "outputs": [],
      "source": [
        "def make_change(ld, val):\n",
        "    dss.text(f\"compile [{dss_file}]\") \n",
        "    dss.text(f\"solve\")\n",
        "    #show_voltages(\"blue\")\n",
        "    #store_values()\n",
        "    change_loads(ld, val)"
      ]
    },
    {
      "cell_type": "code",
      "execution_count": 21,
      "metadata": {},
      "outputs": [],
      "source": [
        "def bruteforce_placement():\n",
        "    for _ in loads:\n",
        "        make_change(_, 1155)"
      ]
    },
    {
      "cell_type": "code",
      "execution_count": 30,
      "metadata": {},
      "outputs": [],
      "source": [
        "load_dict, line_dict, cap_dict, transformer_dict, regulator_dict = make_dicts()\n",
        "make_change(\"Load.671\", 755)\n",
        "#store_values()\n",
        "#print(load_dict[\"Load.671\"][\"current\"])\n",
        "#show_before_and_after(load_dict, \"Load.671\", \"current\")"
      ]
    },
    {
      "cell_type": "code",
      "execution_count": 33,
      "metadata": {},
      "outputs": [],
      "source": [
        "def timeseries_load_parse(ld, arr, param):\n",
        "    for i in range(len(arr)):\n",
        "        change_loads(ld, arr[i])"
      ]
    },
    {
      "cell_type": "code",
      "execution_count": 34,
      "metadata": {},
      "outputs": [
        {
          "name": "stdout",
          "output_type": "stream",
          "text": [
            "[[13.254634274136464, -8.407410781481037, -13.90665816361276, -7.282714551270809, 0.6520238894762969, 15.690125332751846], [26.538306603100782, -16.91134210081399, -27.910734031372062, -14.542629637935795, 1.3724274282712798, 31.453971738749782], [39.688961831980336, -25.3891796569576, -41.82928355787042, -21.696504403086095, 2.140321725890084, 47.0856840600437], [52.9771477179861, -34.0464445356519, -55.9685740909518, -28.882853694333836, 2.9914263729656945, 62.92929822998573], [66.29533019547694, -42.80328630191946, -70.20841214305936, -36.0456797384077, 3.9130819475824374, 78.84896604032716], [79.6439649353333, -51.661251033480355, -84.55032671645093, -43.18459817289502, 4.906361781117624, 94.84584920637538], [93.02351955075255, -60.62192784084165, -98.9958882175181, -50.29921323423744, 5.972368666765551, 110.92114107507909], [106.43447389908425, -69.68695043152833, -113.54670986676541, -57.389117230258535, 7.1122359676811655, 127.07606766178688], [119.87784505842865, -78.85876695478676, -128.20539073622356, -64.45390985157219, 8.327545677794916, 143.31267680635895], [133.35406542291733, -88.13900389425308, -142.9735111546592, -71.4931508086052, 9.619445731741877, 159.63215470285826]]\n"
          ]
        }
      ],
      "source": [
        "load_dict, line_dict, cap_dict, transformer_dict, regulator_dict = make_dicts()\n",
        "timeseries_load_parse(\"Load.671\", [i*100 for i in range (1,11)], \"kw\")\n",
        "print(load_dict[\"Load.671\"][\"current\"])"
      ]
    },
    {
      "attachments": {},
      "cell_type": "markdown",
      "metadata": {},
      "source": [
        "Some sample code to get all the bus names in the system."
      ]
    },
    {
      "cell_type": "code",
      "execution_count": 35,
      "metadata": {},
      "outputs": [],
      "source": [
        "buses_list = dss.circuit_all_node_names()\n",
        "bus_voltages = dss.circuit_all_bus_vmag()"
      ]
    }
  ],
  "metadata": {
    "colab": {
      "provenance": []
    },
    "kernelspec": {
      "display_name": "Python 3.11.0 64-bit",
      "language": "python",
      "name": "python3"
    },
    "language_info": {
      "codemirror_mode": {
        "name": "ipython",
        "version": 3
      },
      "file_extension": ".py",
      "mimetype": "text/x-python",
      "name": "python",
      "nbconvert_exporter": "python",
      "pygments_lexer": "ipython3",
      "version": "3.11.0"
    },
    "orig_nbformat": 4,
    "vscode": {
      "interpreter": {
        "hash": "1d0a4022385fbeeefa5c51dae3228dc91989fcb3866060f76c5479348db421a5"
      }
    }
  },
  "nbformat": 4,
  "nbformat_minor": 0
}
