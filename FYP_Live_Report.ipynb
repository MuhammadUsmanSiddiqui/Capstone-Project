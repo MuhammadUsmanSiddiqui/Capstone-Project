{
  "cells": [
    {
      "attachments": {},
      "cell_type": "markdown",
      "metadata": {
        "id": "5ZKXSCg5gBrn"
      },
      "source": [
        "<h1 align=\"center\"> FYP Live Report </h1>\n"
      ]
    },
    {
      "cell_type": "markdown",
      "metadata": {
        "id": "pHiRE-q4gBrs"
      },
      "source": [
        "## Imports and stuff\n",
        "\n",
        "The library titled py_dss_interface comes with its own version of openDSS and so, we do not need to install openDSS separately."
      ]
    },
    {
      "cell_type": "code",
      "execution_count": 63,
      "metadata": {
        "colab": {
          "base_uri": "https://localhost:8080/"
        },
        "id": "1f2ySyyMgBrt",
        "outputId": "7a81bb41-4bc1-4865-eead-3e854eb1ceba"
      },
      "outputs": [],
      "source": [
        "import py_dss_interface\n",
        "import os\n",
        "import pathlib\n",
        "import matplotlib.pyplot as plt\n",
        "import numpy as np\n",
        "import math\n",
        "import random\n",
        "import csv\n",
        "import folium\n",
        "from folium import plugins\n",
        "import pandas as pd\n"
      ]
    },
    {
      "cell_type": "markdown",
      "metadata": {
        "id": "Ihh9bQkGgBrv"
      },
      "source": [
        "Next, we set the path of the dss file. I would prefer to use the python OS module so that writing the path is never an issue again, but unfortunately in live scripts such as these, we are prone to "
      ]
    },
    {
      "cell_type": "code",
      "execution_count": 2,
      "metadata": {
        "id": "P80j_N2egBrv"
      },
      "outputs": [
        {
          "name": "stdout",
          "output_type": "stream",
          "text": [
            "..\\13Bus\\IEEE13Nodeckt.dss\n"
          ]
        }
      ],
      "source": [
        "dss_file = \"..\\\\13Bus\\IEEE13Nodeckt.dss\"\n",
        "\n",
        "print(dss_file)"
      ]
    },
    {
      "cell_type": "markdown",
      "metadata": {
        "id": "LfM-DyOHgBrw"
      },
      "source": [
        "Creating a variable of the self defined data type as shown"
      ]
    },
    {
      "cell_type": "code",
      "execution_count": 3,
      "metadata": {
        "colab": {
          "base_uri": "https://localhost:8080/",
          "height": 311
        },
        "id": "yczmT1GFgBrw",
        "outputId": "58bb6290-9330-4026-c27d-f063c59fff75"
      },
      "outputs": [
        {
          "name": "stdout",
          "output_type": "stream",
          "text": [
            "OpenDSS Started successfully! \n",
            "OpenDSS Version 9.4.0.1 (64-bit build); License Status: Open \n",
            "\n",
            "\n"
          ]
        }
      ],
      "source": [
        "dss = py_dss_interface.DSSDLL()"
      ]
    },
    {
      "cell_type": "markdown",
      "metadata": {
        "id": "rkNic75UgBrx"
      },
      "source": [
        "Compiling the script, which is automatically executed due to \"solve\" command in the code"
      ]
    },
    {
      "cell_type": "code",
      "execution_count": 4,
      "metadata": {
        "id": "-xiPiaxSgBry"
      },
      "outputs": [
        {
          "data": {
            "text/plain": [
              "''"
            ]
          },
          "execution_count": 4,
          "metadata": {},
          "output_type": "execute_result"
        }
      ],
      "source": [
        "dss.text(f\"compile [{dss_file}]\")"
      ]
    },
    {
      "attachments": {},
      "cell_type": "markdown",
      "metadata": {},
      "source": [
        "Next, we try to get the voltages, powers, and currents at every node in the circuit. Next, we will attempt to do a timeseries simulation of the circuit where we will sweep one load's values over some duration an examine the effects on the parameters of other components.\n"
      ]
    },
    {
      "cell_type": "code",
      "execution_count": 5,
      "metadata": {},
      "outputs": [
        {
          "name": "stdout",
          "output_type": "stream",
          "text": [
            "['sourcebus', '650', 'rg60', '633', '634', '671', '645', '646', '692', '675', '611', '652', '670', '632', '680', '684']\n"
          ]
        }
      ],
      "source": [
        "loads = [\n",
        "\"Load.671\",\n",
        "\"Load.634a\",\n",
        "\"Load.634b\",\n",
        "\"Load.634c\",\n",
        "\"Load.645\",\n",
        "\"Load.646\",\n",
        "\"Load.692\",\n",
        "\"Load.675a\",\n",
        "\"Load.675b\",\n",
        "\"Load.675c\",\n",
        "\"Load.611\",\n",
        "\"Load.652\",\n",
        "\"Load.670a\",\n",
        "\"Load.670b\",\n",
        "\"Load.670c\"\n",
        "]\n",
        "\n",
        "lines = [\n",
        "\"Line.650632\",\n",
        "\"Line.632670\",\n",
        "\"Line.670671\",\n",
        "\"Line.671680\",\n",
        "\"Line.632633\",\n",
        "\"Line.632645\",\n",
        "\"Line.645646\",\n",
        "\"Line.692675\",\n",
        "\"Line.671684\",\n",
        "\"Line.684611\",\n",
        "\"Line.684652\",\n",
        "\"Line.671692\"\n",
        "]\n",
        "\n",
        "caps = [\n",
        "\"Capacitor.Cap1\",\n",
        "\"Capacitor.Cap2\"\n",
        "]\n",
        "\n",
        "transformers = [\n",
        "\"Transformer.Sub\",\n",
        "\"Transformer.XFM1\",\n",
        "\"Transformer.Reg1\",\n",
        "\"Transformer.Reg2\",\n",
        "\"Transformer.Reg3\"\n",
        "]\n",
        "\n",
        "regulators = [\n",
        "\"regcontrol.Reg1\",\n",
        "\"regcontrol.Reg2\",\n",
        "\"regcontrol.Reg3\"\n",
        "]\n",
        "\n",
        "bus_nodes = dss.circuit_all_node_names()\n",
        "buses = []\n",
        "for bus in bus_nodes:\n",
        "    if bus.split(\".\")[0] not in buses:\n",
        "        buses.append(bus.split(\".\")[0])\n",
        "\n",
        "print(buses)\n",
        "\n",
        "elements = lines"
      ]
    },
    {
      "attachments": {},
      "cell_type": "markdown",
      "metadata": {},
      "source": [
        "show_before_and_after function is defined to show the voltages before and after the load is changed. This function is called in the next cell. It does so by generating 2 bar charts for the voltages before and after the load is changed. The function takes in the load name as a parameter and then uses the load name to get the bus name. The bus name is then used to get the voltages before and after the load is changed. The voltages are then plotted in a bar chart. The function returns the voltages before and after the load is changed."
      ]
    },
    {
      "cell_type": "code",
      "execution_count": 6,
      "metadata": {},
      "outputs": [],
      "source": [
        "def show_before_and_after(dict, item, parameter):\n",
        "    fig, ax = plt.subplots(figsize=(6,6))\n",
        "    for i in range(0, len(dict[item][parameter][0]), 2):\n",
        "        ax.arrow(0, 0, dict[item][parameter][0][i], dict[item][parameter][0][i+1], head_width=10, head_length=10, fc='blue', ec='blue')\n",
        "        ax.arrow(0, 0, dict[item][parameter][1][i], dict[item][parameter][1][i+1], head_width=10, head_length=10, fc='red', ec='red')\n",
        "    ax.grid(True)\n",
        "    #ax.legend(['Before'])\n",
        "    ax.legend(['Before', 'After'])\n",
        "    ax.set_xlabel('Real Axis (A)')\n",
        "    ax.set_ylabel('Imaginary Axis (A)')\n",
        "    title = 'Complex ' + parameter + ' Before ' + 'and After'\n",
        "    ax.set_title(title)\n",
        "    plt.show(block=False)"
      ]
    },
    {
      "attachments": {},
      "cell_type": "markdown",
      "metadata": {},
      "source": []
    },
    {
      "cell_type": "code",
      "execution_count": 7,
      "metadata": {},
      "outputs": [],
      "source": [
        "def show_voltages(col):\n",
        "    buses_list = dss.circuit_all_node_names()\n",
        "    bus_voltages = dss.circuit_all_bus_vmag_pu()\n",
        "    fig = plt.figure(figsize = (75, 5))\n",
        "    plt.bar(buses_list, bus_voltages, color =col)\n",
        "    plt.xlabel(\"Nodes\")\n",
        "    plt.ylabel(\"Voltage (reference to ground in V)\")\n",
        "    plt.title(\"Voltage at each node in the circuit\")\n",
        "    plt.show(block=False)\n",
        "    return"
      ]
    },
    {
      "attachments": {},
      "cell_type": "markdown",
      "metadata": {},
      "source": [
        "store_values function is called when some change has been made to a circuit, it stores the power and current values at all the pd and pc elements of the circuit."
      ]
    },
    {
      "cell_type": "code",
      "execution_count": 8,
      "metadata": {},
      "outputs": [],
      "source": [
        "def store_values():\n",
        "    for load in loads:\n",
        "        dss.circuit_set_active_element(load) \n",
        "        load_dict[load][\"current\"].append(dss.cktelement_currents())\n",
        "        load_dict[load][\"power\"].append(dss.cktelement_powers())\n",
        "    for line in lines:\n",
        "        dss.circuit_set_active_element(line) \n",
        "        line_dict[line][\"current\"].append(dss.cktelement_currents())\n",
        "        line_dict[line][\"power\"].append(dss.cktelement_powers())\n",
        "    for cap in caps:\n",
        "        dss.circuit_set_active_element(cap) \n",
        "        cap_dict[cap][\"current\"].append(dss.cktelement_currents())\n",
        "        cap_dict[cap][\"power\"].append(dss.cktelement_powers())\n",
        "    for transformer in transformers:\n",
        "        dss.circuit_set_active_element(transformer) \n",
        "        transformer_dict[transformer][\"current\"].append(dss.cktelement_currents())\n",
        "        transformer_dict[transformer][\"power\"].append(dss.cktelement_powers())\n",
        "    for regulator in regulators:\n",
        "        dss.circuit_set_active_element(regulator) \n",
        "        regulator_dict[regulator][\"current\"].append(dss.cktelement_currents())\n",
        "        regulator_dict[regulator][\"power\"].append(dss.cktelement_powers())\n"
      ]
    },
    {
      "attachments": {},
      "cell_type": "markdown",
      "metadata": {},
      "source": [
        "change_loads function is used to change the load values of the circuit. The function takes in the name of the load, the phase, and the value to be changed to. The function then changes the load value and then solves the circuit. The function returns the voltages, powers, and currents at every node in the circuit."
      ]
    },
    {
      "cell_type": "code",
      "execution_count": 9,
      "metadata": {},
      "outputs": [],
      "source": [
        "def change_loads(load, value):\n",
        "    dss.text(f\"compile [{dss_file}]\")\n",
        "    dss.text(f\"solve\")\n",
        "    dss.loads_write_name(load.split(\".\")[-1]) \n",
        "    dss.loads_write_kw(value) \n",
        "    dss.text(f\"solve\")\n",
        "    store_values() "
      ]
    },
    {
      "cell_type": "code",
      "execution_count": 10,
      "metadata": {},
      "outputs": [],
      "source": [
        "def make_dicts():\n",
        "    load_dict = {}\n",
        "    for load in loads:\n",
        "        load_dict[load] = {\"power\":[], \"current\":[]}\n",
        "    line_dict = {}\n",
        "    for line in lines:\n",
        "        line_dict[line] = {\"power\":[], \"current\":[]}\n",
        "    cap_dict = {}\n",
        "    for cap in caps:\n",
        "        cap_dict[cap] = {\"power\":[], \"current\":[]}\n",
        "    transformer_dict = {}\n",
        "    for transformer in transformers:\n",
        "        transformer_dict[transformer] = {\"power\":[], \"current\":[]}\n",
        "    regulator_dict = {}\n",
        "    for regulator in regulators:\n",
        "        regulator_dict[regulator] = {\"power\":[], \"current\":[]} \n",
        "    return load_dict, line_dict, cap_dict, transformer_dict, regulator_dict\n",
        "    "
      ]
    },
    {
      "cell_type": "code",
      "execution_count": 11,
      "metadata": {},
      "outputs": [],
      "source": [
        "def make_change(ld, val):\n",
        "    dss.text(f\"compile [{dss_file}]\") \n",
        "    dss.text(f\"solve\")\n",
        "    #show_voltages(\"blue\")\n",
        "    #store_values()\n",
        "    change_loads(ld, val)"
      ]
    },
    {
      "cell_type": "code",
      "execution_count": 12,
      "metadata": {},
      "outputs": [],
      "source": [
        "def bruteforce_placement():\n",
        "    for _ in loads:\n",
        "        make_change(_, 1155)"
      ]
    },
    {
      "cell_type": "code",
      "execution_count": 13,
      "metadata": {},
      "outputs": [],
      "source": [
        "load_dict, line_dict, cap_dict, transformer_dict, regulator_dict = make_dicts()\n",
        "make_change(\"Load.671\", 755)\n",
        "#store_values()\n",
        "#print(load_dict[\"Load.671\"][\"current\"])\n",
        "#show_before_and_after(load_dict, \"Load.671\", \"current\")"
      ]
    },
    {
      "cell_type": "code",
      "execution_count": 14,
      "metadata": {},
      "outputs": [],
      "source": [
        "def timeseries_load_parse(ld, arr, param):\n",
        "    for i in range(len(arr)):\n",
        "        change_loads(ld, arr[i])"
      ]
    },
    {
      "cell_type": "code",
      "execution_count": 15,
      "metadata": {},
      "outputs": [
        {
          "name": "stdout",
          "output_type": "stream",
          "text": [
            "[[13.254634274136464, -8.407410781481037, -13.90665816361276, -7.282714551270809, 0.6520238894762969, 15.690125332751846], [26.538306603100782, -16.91134210081399, -27.910734031372062, -14.542629637935795, 1.3724274282712798, 31.453971738749782], [39.688961831980336, -25.3891796569576, -41.82928355787042, -21.696504403086095, 2.140321725890084, 47.0856840600437], [52.9771477179861, -34.0464445356519, -55.9685740909518, -28.882853694333836, 2.9914263729656945, 62.92929822998573], [66.29533019547694, -42.80328630191946, -70.20841214305936, -36.0456797384077, 3.9130819475824374, 78.84896604032716], [79.6439649353333, -51.661251033480355, -84.55032671645093, -43.18459817289502, 4.906361781117624, 94.84584920637538], [93.02351955075255, -60.62192784084165, -98.9958882175181, -50.29921323423744, 5.972368666765551, 110.92114107507909], [106.43447389908425, -69.68695043152833, -113.54670986676541, -57.389117230258535, 7.1122359676811655, 127.07606766178688], [119.87784505842865, -78.85876695478676, -128.20539073622356, -64.45390985157219, 8.327545677794916, 143.31267680635895], [133.35406542291733, -88.13900389425308, -142.9735111546592, -71.4931508086052, 9.619445731741877, 159.63215470285826]]\n"
          ]
        }
      ],
      "source": [
        "load_dict, line_dict, cap_dict, transformer_dict, regulator_dict = make_dicts()\n",
        "timeseries_load_parse(\"Load.671\", [i*100 for i in range (1,11)], \"kw\")\n",
        "print(load_dict[\"Load.671\"][\"current\"])"
      ]
    },
    {
      "attachments": {},
      "cell_type": "markdown",
      "metadata": {},
      "source": [
        "Some sample code to get all the bus names in the system."
      ]
    },
    {
      "cell_type": "code",
      "execution_count": 16,
      "metadata": {},
      "outputs": [],
      "source": [
        "bus_voltages = dss.circuit_all_bus_vmag()"
      ]
    },
    {
      "attachments": {},
      "cell_type": "markdown",
      "metadata": {},
      "source": [
        "for now, we will randomly generate the bus locations and save in a csv file. Practically, these CSV locations are given by the user."
      ]
    },
    {
      "cell_type": "code",
      "execution_count": 59,
      "metadata": {},
      "outputs": [],
      "source": [
        "with open(\"C:\\\\Users\\\\usman\\\\OneDrive - Habib University\\\\Desktop\\\\Habib University\\\\Capstone\\\\bus_lat_long.csv\", \"w\") as f:\n",
        "    for bus in buses:\n",
        "        dss.circuit_set_active_bus(bus)\n",
        "        dss.bus_write_latitude(24.9 + random.randint(1000000000000, 4000000000000)/100000000000000)\n",
        "        dss.bus_write_longitude(67.1 + random.randint(0000000000000, 2000000000000)/100000000000000)\n",
        "        f.write(f\"{bus},{dss.bus_read_latitude()},{dss.bus_read_longitude()}\\n\")"
      ]
    },
    {
      "attachments": {},
      "cell_type": "markdown",
      "metadata": {},
      "source": [
        "The following is the practical code, which will read from the csv and save the long and lat as variables of the Bus object."
      ]
    },
    {
      "cell_type": "code",
      "execution_count": 62,
      "metadata": {},
      "outputs": [],
      "source": [
        "with open('C:\\\\Users\\\\usman\\\\OneDrive - Habib University\\\\Desktop\\\\Habib University\\\\Capstone\\\\bus_lat_long.csv') as f:\n",
        "    for line in f:\n",
        "        dss.circuit_set_active_bus(line.split(\",\")[0])\n",
        "        dss.bus_write_latitude(float(line.split(\",\")[1]))\n",
        "        dss.bus_write_longitude(float(line.split(\",\")[2]))"
      ]
    },
    {
      "attachments": {},
      "cell_type": "markdown",
      "metadata": {},
      "source": [
        "Making a list of all the buses lats and longs"
      ]
    },
    {
      "cell_type": "code",
      "execution_count": 84,
      "metadata": {},
      "outputs": [],
      "source": [
        "bus_lats = []\n",
        "bus_longs = []\n",
        "for bus in buses:\n",
        "    dss.circuit_set_active_bus(bus)\n",
        "    bus_lats.append(dss.bus_read_latitude())\n",
        "    bus_longs.append(dss.bus_read_longitude())\n"
      ]
    },
    {
      "attachments": {},
      "cell_type": "markdown",
      "metadata": {},
      "source": [
        "Now to make dummy transformer locations"
      ]
    },
    {
      "cell_type": "code",
      "execution_count": 97,
      "metadata": {},
      "outputs": [],
      "source": [
        "trans_lat = []\n",
        "trans_long = []\n",
        "with open('C:\\\\Users\\\\usman\\\\OneDrive - Habib University\\\\Desktop\\\\Habib University\\\\Capstone\\\\transformer_lat_long.csv') as f:\n",
        "    for line in f:\n",
        "        trans_lat.append(float(line.split(\",\")[1]))\n",
        "        trans_long.append(float(line.split(\",\")[2]))"
      ]
    },
    {
      "attachments": {},
      "cell_type": "markdown",
      "metadata": {},
      "source": [
        "Finally, integrating maps functionality."
      ]
    },
    {
      "cell_type": "code",
      "execution_count": 104,
      "metadata": {},
      "outputs": [
        {
          "name": "stdout",
          "output_type": "stream",
          "text": [
            "24.91469901870831 67.11791662583576\n"
          ]
        }
      ],
      "source": [
        "dss.circuit_set_active_bus(\"634\")\n",
        "print(dss.bus_read_latitude(), dss.bus_read_longitude())"
      ]
    },
    {
      "cell_type": "code",
      "execution_count": 110,
      "metadata": {},
      "outputs": [
        {
          "name": "stdout",
          "output_type": "stream",
          "text": [
            "Line.650632 rg60.1.2.3 632.1.2.3\n",
            "Line.632670 632.1.2.3 670.1.2.3\n",
            "Line.670671 670.1.2.3 671.1.2.3\n",
            "Line.671680 671.1.2.3 680.1.2.3\n",
            "Line.632633 632.1.2.3 633.1.2.3\n",
            "Line.632645 632.3.2 645.3.2\n",
            "Line.645646 645.3.2 646.3.2\n",
            "Line.692675 692.1.2.3 675.1.2.3\n",
            "Line.671684 671.1.3 684.1.3\n",
            "Line.684611 684.3 611.3\n",
            "Line.684652 684.1 652.1\n",
            "Line.671692 671 692\n"
          ]
        },
        {
          "data": {
            "text/html": [
              "<div style=\"width:100%;\"><div style=\"position:relative;width:100%;height:0;padding-bottom:60%;\"><span style=\"color:#565656\">Make this Notebook Trusted to load map: File -> Trust Notebook</span><iframe srcdoc=\"&lt;!DOCTYPE html&gt;\n",
              "&lt;html&gt;\n",
              "&lt;head&gt;\n",
              "    \n",
              "    &lt;meta http-equiv=&quot;content-type&quot; content=&quot;text/html; charset=UTF-8&quot; /&gt;\n",
              "    \n",
              "        &lt;script&gt;\n",
              "            L_NO_TOUCH = false;\n",
              "            L_DISABLE_3D = false;\n",
              "        &lt;/script&gt;\n",
              "    \n",
              "    &lt;style&gt;html, body {width: 100%;height: 100%;margin: 0;padding: 0;}&lt;/style&gt;\n",
              "    &lt;style&gt;#map {position:absolute;top:0;bottom:0;right:0;left:0;}&lt;/style&gt;\n",
              "    &lt;script src=&quot;https://cdn.jsdelivr.net/npm/leaflet@1.9.3/dist/leaflet.js&quot;&gt;&lt;/script&gt;\n",
              "    &lt;script src=&quot;https://code.jquery.com/jquery-1.12.4.min.js&quot;&gt;&lt;/script&gt;\n",
              "    &lt;script src=&quot;https://cdn.jsdelivr.net/npm/bootstrap@5.2.2/dist/js/bootstrap.bundle.min.js&quot;&gt;&lt;/script&gt;\n",
              "    &lt;script src=&quot;https://cdnjs.cloudflare.com/ajax/libs/Leaflet.awesome-markers/2.0.2/leaflet.awesome-markers.js&quot;&gt;&lt;/script&gt;\n",
              "    &lt;link rel=&quot;stylesheet&quot; href=&quot;https://cdn.jsdelivr.net/npm/leaflet@1.9.3/dist/leaflet.css&quot;/&gt;\n",
              "    &lt;link rel=&quot;stylesheet&quot; href=&quot;https://cdn.jsdelivr.net/npm/bootstrap@5.2.2/dist/css/bootstrap.min.css&quot;/&gt;\n",
              "    &lt;link rel=&quot;stylesheet&quot; href=&quot;https://netdna.bootstrapcdn.com/bootstrap/3.0.0/css/bootstrap.min.css&quot;/&gt;\n",
              "    &lt;link rel=&quot;stylesheet&quot; href=&quot;https://cdn.jsdelivr.net/npm/@fortawesome/fontawesome-free@6.2.0/css/all.min.css&quot;/&gt;\n",
              "    &lt;link rel=&quot;stylesheet&quot; href=&quot;https://cdnjs.cloudflare.com/ajax/libs/Leaflet.awesome-markers/2.0.2/leaflet.awesome-markers.css&quot;/&gt;\n",
              "    &lt;link rel=&quot;stylesheet&quot; href=&quot;https://cdn.jsdelivr.net/gh/python-visualization/folium/folium/templates/leaflet.awesome.rotate.min.css&quot;/&gt;\n",
              "    \n",
              "            &lt;meta name=&quot;viewport&quot; content=&quot;width=device-width,\n",
              "                initial-scale=1.0, maximum-scale=1.0, user-scalable=no&quot; /&gt;\n",
              "            &lt;style&gt;\n",
              "                #map_e4c020e99e6bbfb13466a2681c7dabd8 {\n",
              "                    position: relative;\n",
              "                    width: 100.0%;\n",
              "                    height: 100.0%;\n",
              "                    left: 0.0%;\n",
              "                    top: 0.0%;\n",
              "                }\n",
              "                .leaflet-container { font-size: 1rem; }\n",
              "            &lt;/style&gt;\n",
              "        \n",
              "    &lt;script src=&quot;https://cdn.jsdelivr.net/gh/marslan390/BeautifyMarker/leaflet-beautify-marker-icon.min.js&quot;&gt;&lt;/script&gt;\n",
              "    &lt;link rel=&quot;stylesheet&quot; href=&quot;https://cdn.jsdelivr.net/gh/marslan390/BeautifyMarker/leaflet-beautify-marker-icon.min.css&quot;/&gt;\n",
              "&lt;/head&gt;\n",
              "&lt;body&gt;\n",
              "    \n",
              "    \n",
              "            &lt;div class=&quot;folium-map&quot; id=&quot;map_e4c020e99e6bbfb13466a2681c7dabd8&quot; &gt;&lt;/div&gt;\n",
              "        \n",
              "&lt;/body&gt;\n",
              "&lt;script&gt;\n",
              "    \n",
              "    \n",
              "            var map_e4c020e99e6bbfb13466a2681c7dabd8 = L.map(\n",
              "                &quot;map_e4c020e99e6bbfb13466a2681c7dabd8&quot;,\n",
              "                {\n",
              "                    center: [24.9360971, 67.1063258],\n",
              "                    crs: L.CRS.EPSG3857,\n",
              "                    zoom: 15,\n",
              "                    zoomControl: true,\n",
              "                    preferCanvas: false,\n",
              "                }\n",
              "            );\n",
              "\n",
              "            \n",
              "\n",
              "        \n",
              "    \n",
              "            var tile_layer_f19698109ef964eee527de0676cb64d4 = L.tileLayer(\n",
              "                &quot;https://{s}.tile.openstreetmap.org/{z}/{x}/{y}.png&quot;,\n",
              "                {&quot;attribution&quot;: &quot;Data by \\u0026copy; \\u003ca target=\\&quot;_blank\\&quot; href=\\&quot;http://openstreetmap.org\\&quot;\\u003eOpenStreetMap\\u003c/a\\u003e, under \\u003ca target=\\&quot;_blank\\&quot; href=\\&quot;http://www.openstreetmap.org/copyright\\&quot;\\u003eODbL\\u003c/a\\u003e.&quot;, &quot;detectRetina&quot;: false, &quot;maxNativeZoom&quot;: 18, &quot;maxZoom&quot;: 18, &quot;minZoom&quot;: 0, &quot;noWrap&quot;: false, &quot;opacity&quot;: 1, &quot;subdomains&quot;: &quot;abc&quot;, &quot;tms&quot;: false}\n",
              "            ).addTo(map_e4c020e99e6bbfb13466a2681c7dabd8);\n",
              "        \n",
              "    \n",
              "            var marker_19ffb06a63d074841a1966cbdfeb494f = L.marker(\n",
              "                [24.92948548278363, 67.10575905588713],\n",
              "                {}\n",
              "            ).addTo(map_e4c020e99e6bbfb13466a2681c7dabd8);\n",
              "        \n",
              "    \n",
              "            var beautify_icon_410bb00883776831f5ce94a8d6b81dd0 = new L.BeautifyIcon.icon(\n",
              "                {&quot;backgroundColor&quot;: &quot;#FFF&quot;, &quot;borderColor&quot;: &quot;blue&quot;, &quot;borderWidth&quot;: 2, &quot;innerIconStyle&quot;: &quot;margin-top:0px;&quot;, &quot;isAlphaNumericIcon&quot;: true, &quot;spin&quot;: false, &quot;text&quot;: &quot;sourcebus&quot;, &quot;textColor&quot;: &quot;red&quot;}\n",
              "            )\n",
              "            marker_19ffb06a63d074841a1966cbdfeb494f.setIcon(beautify_icon_410bb00883776831f5ce94a8d6b81dd0);\n",
              "        \n",
              "    \n",
              "            var marker_e40ac0dfd4f511541df9ac617cde25ad = L.marker(\n",
              "                [24.93685395443507, 67.10468544936255],\n",
              "                {}\n",
              "            ).addTo(map_e4c020e99e6bbfb13466a2681c7dabd8);\n",
              "        \n",
              "    \n",
              "            var beautify_icon_d9ba21f40b7e87fd95328f6144a60e61 = new L.BeautifyIcon.icon(\n",
              "                {&quot;backgroundColor&quot;: &quot;#FFF&quot;, &quot;borderColor&quot;: &quot;blue&quot;, &quot;borderWidth&quot;: 2, &quot;innerIconStyle&quot;: &quot;margin-top:0px;&quot;, &quot;isAlphaNumericIcon&quot;: true, &quot;spin&quot;: false, &quot;text&quot;: &quot;650&quot;, &quot;textColor&quot;: &quot;red&quot;}\n",
              "            )\n",
              "            marker_e40ac0dfd4f511541df9ac617cde25ad.setIcon(beautify_icon_d9ba21f40b7e87fd95328f6144a60e61);\n",
              "        \n",
              "    \n",
              "            var marker_6aad52afe2163e959c7a209bd8a725f5 = L.marker(\n",
              "                [24.921667132445467, 67.11482849708392],\n",
              "                {}\n",
              "            ).addTo(map_e4c020e99e6bbfb13466a2681c7dabd8);\n",
              "        \n",
              "    \n",
              "            var beautify_icon_d9cfbc50da3db90a6d1c71695f7d3792 = new L.BeautifyIcon.icon(\n",
              "                {&quot;backgroundColor&quot;: &quot;#FFF&quot;, &quot;borderColor&quot;: &quot;blue&quot;, &quot;borderWidth&quot;: 2, &quot;innerIconStyle&quot;: &quot;margin-top:0px;&quot;, &quot;isAlphaNumericIcon&quot;: true, &quot;spin&quot;: false, &quot;text&quot;: &quot;rg60&quot;, &quot;textColor&quot;: &quot;red&quot;}\n",
              "            )\n",
              "            marker_6aad52afe2163e959c7a209bd8a725f5.setIcon(beautify_icon_d9cfbc50da3db90a6d1c71695f7d3792);\n",
              "        \n",
              "    \n",
              "            var marker_fc15d855d060faaadded65ee20979cc7 = L.marker(\n",
              "                [24.91263280670944, 67.10864020283294],\n",
              "                {}\n",
              "            ).addTo(map_e4c020e99e6bbfb13466a2681c7dabd8);\n",
              "        \n",
              "    \n",
              "            var beautify_icon_d57939763065ef93e34129a900d0ff92 = new L.BeautifyIcon.icon(\n",
              "                {&quot;backgroundColor&quot;: &quot;#FFF&quot;, &quot;borderColor&quot;: &quot;blue&quot;, &quot;borderWidth&quot;: 2, &quot;innerIconStyle&quot;: &quot;margin-top:0px;&quot;, &quot;isAlphaNumericIcon&quot;: true, &quot;spin&quot;: false, &quot;text&quot;: &quot;633&quot;, &quot;textColor&quot;: &quot;red&quot;}\n",
              "            )\n",
              "            marker_fc15d855d060faaadded65ee20979cc7.setIcon(beautify_icon_d57939763065ef93e34129a900d0ff92);\n",
              "        \n",
              "    \n",
              "            var marker_579117e0bf76ef8325e8efa91260d1cb = L.marker(\n",
              "                [24.91469901870831, 67.11791662583576],\n",
              "                {}\n",
              "            ).addTo(map_e4c020e99e6bbfb13466a2681c7dabd8);\n",
              "        \n",
              "    \n",
              "            var beautify_icon_2230f36ba9bad82ca5d9c24aa63cb7dc = new L.BeautifyIcon.icon(\n",
              "                {&quot;backgroundColor&quot;: &quot;#FFF&quot;, &quot;borderColor&quot;: &quot;blue&quot;, &quot;borderWidth&quot;: 2, &quot;innerIconStyle&quot;: &quot;margin-top:0px;&quot;, &quot;isAlphaNumericIcon&quot;: true, &quot;spin&quot;: false, &quot;text&quot;: &quot;634&quot;, &quot;textColor&quot;: &quot;red&quot;}\n",
              "            )\n",
              "            marker_579117e0bf76ef8325e8efa91260d1cb.setIcon(beautify_icon_2230f36ba9bad82ca5d9c24aa63cb7dc);\n",
              "        \n",
              "    \n",
              "            var marker_c9bfc6fdf1442b28af33fb9cf32aa16a = L.marker(\n",
              "                [24.911732513442047, 67.11280525252674],\n",
              "                {}\n",
              "            ).addTo(map_e4c020e99e6bbfb13466a2681c7dabd8);\n",
              "        \n",
              "    \n",
              "            var beautify_icon_72d39f0c6e6d886011cec442d5d0a342 = new L.BeautifyIcon.icon(\n",
              "                {&quot;backgroundColor&quot;: &quot;#FFF&quot;, &quot;borderColor&quot;: &quot;blue&quot;, &quot;borderWidth&quot;: 2, &quot;innerIconStyle&quot;: &quot;margin-top:0px;&quot;, &quot;isAlphaNumericIcon&quot;: true, &quot;spin&quot;: false, &quot;text&quot;: &quot;671&quot;, &quot;textColor&quot;: &quot;red&quot;}\n",
              "            )\n",
              "            marker_c9bfc6fdf1442b28af33fb9cf32aa16a.setIcon(beautify_icon_72d39f0c6e6d886011cec442d5d0a342);\n",
              "        \n",
              "    \n",
              "            var marker_f95e1296037bfe88d1282000e12ec75f = L.marker(\n",
              "                [24.93795163214233, 67.10643747800215],\n",
              "                {}\n",
              "            ).addTo(map_e4c020e99e6bbfb13466a2681c7dabd8);\n",
              "        \n",
              "    \n",
              "            var beautify_icon_8aeecb027caa886ab6de049bf367c735 = new L.BeautifyIcon.icon(\n",
              "                {&quot;backgroundColor&quot;: &quot;#FFF&quot;, &quot;borderColor&quot;: &quot;blue&quot;, &quot;borderWidth&quot;: 2, &quot;innerIconStyle&quot;: &quot;margin-top:0px;&quot;, &quot;isAlphaNumericIcon&quot;: true, &quot;spin&quot;: false, &quot;text&quot;: &quot;645&quot;, &quot;textColor&quot;: &quot;red&quot;}\n",
              "            )\n",
              "            marker_f95e1296037bfe88d1282000e12ec75f.setIcon(beautify_icon_8aeecb027caa886ab6de049bf367c735);\n",
              "        \n",
              "    \n",
              "            var marker_13c726c48cb42de2125ebbb485c057c1 = L.marker(\n",
              "                [24.91116168856777, 67.11968598520187],\n",
              "                {}\n",
              "            ).addTo(map_e4c020e99e6bbfb13466a2681c7dabd8);\n",
              "        \n",
              "    \n",
              "            var beautify_icon_bf51b2019a2602031de8c509dff1a708 = new L.BeautifyIcon.icon(\n",
              "                {&quot;backgroundColor&quot;: &quot;#FFF&quot;, &quot;borderColor&quot;: &quot;blue&quot;, &quot;borderWidth&quot;: 2, &quot;innerIconStyle&quot;: &quot;margin-top:0px;&quot;, &quot;isAlphaNumericIcon&quot;: true, &quot;spin&quot;: false, &quot;text&quot;: &quot;646&quot;, &quot;textColor&quot;: &quot;red&quot;}\n",
              "            )\n",
              "            marker_13c726c48cb42de2125ebbb485c057c1.setIcon(beautify_icon_bf51b2019a2602031de8c509dff1a708);\n",
              "        \n",
              "    \n",
              "            var marker_0e2b8d563ed4eac0a4f299c6c45ef510 = L.marker(\n",
              "                [24.91366770940072, 67.10679143052128],\n",
              "                {}\n",
              "            ).addTo(map_e4c020e99e6bbfb13466a2681c7dabd8);\n",
              "        \n",
              "    \n",
              "            var beautify_icon_39471c6078ad82fc08129a82b22d2d1b = new L.BeautifyIcon.icon(\n",
              "                {&quot;backgroundColor&quot;: &quot;#FFF&quot;, &quot;borderColor&quot;: &quot;blue&quot;, &quot;borderWidth&quot;: 2, &quot;innerIconStyle&quot;: &quot;margin-top:0px;&quot;, &quot;isAlphaNumericIcon&quot;: true, &quot;spin&quot;: false, &quot;text&quot;: &quot;692&quot;, &quot;textColor&quot;: &quot;red&quot;}\n",
              "            )\n",
              "            marker_0e2b8d563ed4eac0a4f299c6c45ef510.setIcon(beautify_icon_39471c6078ad82fc08129a82b22d2d1b);\n",
              "        \n",
              "    \n",
              "            var marker_238745685d367dc638034aa2605c533f = L.marker(\n",
              "                [24.91500538036549, 67.10016174082996],\n",
              "                {}\n",
              "            ).addTo(map_e4c020e99e6bbfb13466a2681c7dabd8);\n",
              "        \n",
              "    \n",
              "            var beautify_icon_f90c7d21bf7a2f079010bb3803fad193 = new L.BeautifyIcon.icon(\n",
              "                {&quot;backgroundColor&quot;: &quot;#FFF&quot;, &quot;borderColor&quot;: &quot;blue&quot;, &quot;borderWidth&quot;: 2, &quot;innerIconStyle&quot;: &quot;margin-top:0px;&quot;, &quot;isAlphaNumericIcon&quot;: true, &quot;spin&quot;: false, &quot;text&quot;: &quot;675&quot;, &quot;textColor&quot;: &quot;red&quot;}\n",
              "            )\n",
              "            marker_238745685d367dc638034aa2605c533f.setIcon(beautify_icon_f90c7d21bf7a2f079010bb3803fad193);\n",
              "        \n",
              "    \n",
              "            var marker_1bff7f08521f0dbcdce768022056e45e = L.marker(\n",
              "                [24.91509607809531, 67.11994236565283],\n",
              "                {}\n",
              "            ).addTo(map_e4c020e99e6bbfb13466a2681c7dabd8);\n",
              "        \n",
              "    \n",
              "            var beautify_icon_131dcde08f3b2c86a518140979351aff = new L.BeautifyIcon.icon(\n",
              "                {&quot;backgroundColor&quot;: &quot;#FFF&quot;, &quot;borderColor&quot;: &quot;blue&quot;, &quot;borderWidth&quot;: 2, &quot;innerIconStyle&quot;: &quot;margin-top:0px;&quot;, &quot;isAlphaNumericIcon&quot;: true, &quot;spin&quot;: false, &quot;text&quot;: &quot;611&quot;, &quot;textColor&quot;: &quot;red&quot;}\n",
              "            )\n",
              "            marker_1bff7f08521f0dbcdce768022056e45e.setIcon(beautify_icon_131dcde08f3b2c86a518140979351aff);\n",
              "        \n",
              "    \n",
              "            var marker_759ad43a1026227958f84415f1df86b1 = L.marker(\n",
              "                [24.91989254882029, 67.11199493441029],\n",
              "                {}\n",
              "            ).addTo(map_e4c020e99e6bbfb13466a2681c7dabd8);\n",
              "        \n",
              "    \n",
              "            var beautify_icon_d5102583dc34d62114a8e8f6e056f7cf = new L.BeautifyIcon.icon(\n",
              "                {&quot;backgroundColor&quot;: &quot;#FFF&quot;, &quot;borderColor&quot;: &quot;blue&quot;, &quot;borderWidth&quot;: 2, &quot;innerIconStyle&quot;: &quot;margin-top:0px;&quot;, &quot;isAlphaNumericIcon&quot;: true, &quot;spin&quot;: false, &quot;text&quot;: &quot;652&quot;, &quot;textColor&quot;: &quot;red&quot;}\n",
              "            )\n",
              "            marker_759ad43a1026227958f84415f1df86b1.setIcon(beautify_icon_d5102583dc34d62114a8e8f6e056f7cf);\n",
              "        \n",
              "    \n",
              "            var marker_349fc62fcb1224fbe052ae3bc395a082 = L.marker(\n",
              "                [24.925710113846367, 67.10556275612112],\n",
              "                {}\n",
              "            ).addTo(map_e4c020e99e6bbfb13466a2681c7dabd8);\n",
              "        \n",
              "    \n",
              "            var beautify_icon_1d976534e8489f0828eddc65f48b3d2a = new L.BeautifyIcon.icon(\n",
              "                {&quot;backgroundColor&quot;: &quot;#FFF&quot;, &quot;borderColor&quot;: &quot;blue&quot;, &quot;borderWidth&quot;: 2, &quot;innerIconStyle&quot;: &quot;margin-top:0px;&quot;, &quot;isAlphaNumericIcon&quot;: true, &quot;spin&quot;: false, &quot;text&quot;: &quot;670&quot;, &quot;textColor&quot;: &quot;red&quot;}\n",
              "            )\n",
              "            marker_349fc62fcb1224fbe052ae3bc395a082.setIcon(beautify_icon_1d976534e8489f0828eddc65f48b3d2a);\n",
              "        \n",
              "    \n",
              "            var marker_b78942ede9610233d7c8c0306cf9dd81 = L.marker(\n",
              "                [24.927344605010088, 67.10854256672428],\n",
              "                {}\n",
              "            ).addTo(map_e4c020e99e6bbfb13466a2681c7dabd8);\n",
              "        \n",
              "    \n",
              "            var beautify_icon_f92f1bc812c12d430efd73642bc95ecc = new L.BeautifyIcon.icon(\n",
              "                {&quot;backgroundColor&quot;: &quot;#FFF&quot;, &quot;borderColor&quot;: &quot;blue&quot;, &quot;borderWidth&quot;: 2, &quot;innerIconStyle&quot;: &quot;margin-top:0px;&quot;, &quot;isAlphaNumericIcon&quot;: true, &quot;spin&quot;: false, &quot;text&quot;: &quot;632&quot;, &quot;textColor&quot;: &quot;red&quot;}\n",
              "            )\n",
              "            marker_b78942ede9610233d7c8c0306cf9dd81.setIcon(beautify_icon_f92f1bc812c12d430efd73642bc95ecc);\n",
              "        \n",
              "    \n",
              "            var marker_68364160fca231e3c357ce63fc043ca6 = L.marker(\n",
              "                [24.92660178394755, 67.1012721983808],\n",
              "                {}\n",
              "            ).addTo(map_e4c020e99e6bbfb13466a2681c7dabd8);\n",
              "        \n",
              "    \n",
              "            var beautify_icon_45df7e02452e69aa228258512319f045 = new L.BeautifyIcon.icon(\n",
              "                {&quot;backgroundColor&quot;: &quot;#FFF&quot;, &quot;borderColor&quot;: &quot;blue&quot;, &quot;borderWidth&quot;: 2, &quot;innerIconStyle&quot;: &quot;margin-top:0px;&quot;, &quot;isAlphaNumericIcon&quot;: true, &quot;spin&quot;: false, &quot;text&quot;: &quot;680&quot;, &quot;textColor&quot;: &quot;red&quot;}\n",
              "            )\n",
              "            marker_68364160fca231e3c357ce63fc043ca6.setIcon(beautify_icon_45df7e02452e69aa228258512319f045);\n",
              "        \n",
              "    \n",
              "            var marker_58162aa85701eceaef92b2c0a6755e7c = L.marker(\n",
              "                [24.926982153376787, 67.11026455091164],\n",
              "                {}\n",
              "            ).addTo(map_e4c020e99e6bbfb13466a2681c7dabd8);\n",
              "        \n",
              "    \n",
              "            var beautify_icon_be3cb583d31b55c42b87bfe6d5627255 = new L.BeautifyIcon.icon(\n",
              "                {&quot;backgroundColor&quot;: &quot;#FFF&quot;, &quot;borderColor&quot;: &quot;blue&quot;, &quot;borderWidth&quot;: 2, &quot;innerIconStyle&quot;: &quot;margin-top:0px;&quot;, &quot;isAlphaNumericIcon&quot;: true, &quot;spin&quot;: false, &quot;text&quot;: &quot;684&quot;, &quot;textColor&quot;: &quot;red&quot;}\n",
              "            )\n",
              "            marker_58162aa85701eceaef92b2c0a6755e7c.setIcon(beautify_icon_be3cb583d31b55c42b87bfe6d5627255);\n",
              "        \n",
              "    \n",
              "            var marker_c87addf75f1cda00bc246236ef9b8647 = L.marker(\n",
              "                [24.930724110942197, 67.1045220435278],\n",
              "                {}\n",
              "            ).addTo(map_e4c020e99e6bbfb13466a2681c7dabd8);\n",
              "        \n",
              "    \n",
              "            var beautify_icon_7394c68ce9a8fa28b29b39f7b2f3d8a9 = new L.BeautifyIcon.icon(\n",
              "                {&quot;backgroundColor&quot;: &quot;#FFF&quot;, &quot;borderColor&quot;: &quot;blue&quot;, &quot;borderWidth&quot;: 2, &quot;innerIconStyle&quot;: &quot;margin-top:0px;&quot;, &quot;isAlphaNumericIcon&quot;: true, &quot;spin&quot;: false, &quot;text&quot;: &quot;Sub&quot;, &quot;textColor&quot;: &quot;red&quot;}\n",
              "            )\n",
              "            marker_c87addf75f1cda00bc246236ef9b8647.setIcon(beautify_icon_7394c68ce9a8fa28b29b39f7b2f3d8a9);\n",
              "        \n",
              "    \n",
              "            var marker_16e4402c9dafd207df0d0377d36a279e = L.marker(\n",
              "                [24.9137492596974, 67.114093381518],\n",
              "                {}\n",
              "            ).addTo(map_e4c020e99e6bbfb13466a2681c7dabd8);\n",
              "        \n",
              "    \n",
              "            var beautify_icon_b73ffa944b6ed986636e2282bc43885f = new L.BeautifyIcon.icon(\n",
              "                {&quot;backgroundColor&quot;: &quot;#FFF&quot;, &quot;borderColor&quot;: &quot;blue&quot;, &quot;borderWidth&quot;: 2, &quot;innerIconStyle&quot;: &quot;margin-top:0px;&quot;, &quot;isAlphaNumericIcon&quot;: true, &quot;spin&quot;: false, &quot;text&quot;: &quot;XFM1&quot;, &quot;textColor&quot;: &quot;red&quot;}\n",
              "            )\n",
              "            marker_16e4402c9dafd207df0d0377d36a279e.setIcon(beautify_icon_b73ffa944b6ed986636e2282bc43885f);\n",
              "        \n",
              "    \n",
              "            var marker_dd28caf6ee67efc1b6b50b2fa68c67fc = L.marker(\n",
              "                [24.924105310272832, 67.1137070651443],\n",
              "                {}\n",
              "            ).addTo(map_e4c020e99e6bbfb13466a2681c7dabd8);\n",
              "        \n",
              "    \n",
              "            var beautify_icon_d70a5e89f9df46f5b80082fbc5daad7a = new L.BeautifyIcon.icon(\n",
              "                {&quot;backgroundColor&quot;: &quot;#FFF&quot;, &quot;borderColor&quot;: &quot;blue&quot;, &quot;borderWidth&quot;: 2, &quot;innerIconStyle&quot;: &quot;margin-top:0px;&quot;, &quot;isAlphaNumericIcon&quot;: true, &quot;spin&quot;: false, &quot;text&quot;: &quot;Reg1&quot;, &quot;textColor&quot;: &quot;red&quot;}\n",
              "            )\n",
              "            marker_dd28caf6ee67efc1b6b50b2fa68c67fc.setIcon(beautify_icon_d70a5e89f9df46f5b80082fbc5daad7a);\n",
              "        \n",
              "    \n",
              "            var marker_642911b4d2b974ade1cf734f486ff7cd = L.marker(\n",
              "                [24.924105310272832, 67.1137070651443],\n",
              "                {}\n",
              "            ).addTo(map_e4c020e99e6bbfb13466a2681c7dabd8);\n",
              "        \n",
              "    \n",
              "            var beautify_icon_d00e05d93bd2612f9353df78b806a525 = new L.BeautifyIcon.icon(\n",
              "                {&quot;backgroundColor&quot;: &quot;#FFF&quot;, &quot;borderColor&quot;: &quot;blue&quot;, &quot;borderWidth&quot;: 2, &quot;innerIconStyle&quot;: &quot;margin-top:0px;&quot;, &quot;isAlphaNumericIcon&quot;: true, &quot;spin&quot;: false, &quot;text&quot;: &quot;Reg2&quot;, &quot;textColor&quot;: &quot;red&quot;}\n",
              "            )\n",
              "            marker_642911b4d2b974ade1cf734f486ff7cd.setIcon(beautify_icon_d00e05d93bd2612f9353df78b806a525);\n",
              "        \n",
              "    \n",
              "            var marker_342d5c4c2ce2787698c459dad46f73c4 = L.marker(\n",
              "                [24.924105310272832, 67.1137070651443],\n",
              "                {}\n",
              "            ).addTo(map_e4c020e99e6bbfb13466a2681c7dabd8);\n",
              "        \n",
              "    \n",
              "            var beautify_icon_8b438bba8d8067dd81afe2d7d6d24f18 = new L.BeautifyIcon.icon(\n",
              "                {&quot;backgroundColor&quot;: &quot;#FFF&quot;, &quot;borderColor&quot;: &quot;blue&quot;, &quot;borderWidth&quot;: 2, &quot;innerIconStyle&quot;: &quot;margin-top:0px;&quot;, &quot;isAlphaNumericIcon&quot;: true, &quot;spin&quot;: false, &quot;text&quot;: &quot;Reg3&quot;, &quot;textColor&quot;: &quot;red&quot;}\n",
              "            )\n",
              "            marker_342d5c4c2ce2787698c459dad46f73c4.setIcon(beautify_icon_8b438bba8d8067dd81afe2d7d6d24f18);\n",
              "        \n",
              "    \n",
              "            var poly_line_0f5e81ce3fb773e57c18118fbd135e92 = L.polyline(\n",
              "                [[24.921667132445467, 67.11482849708392], [24.927344605010088, 67.10854256672428]],\n",
              "                {&quot;bubblingMouseEvents&quot;: true, &quot;color&quot;: &quot;#3388ff&quot;, &quot;dashArray&quot;: null, &quot;dashOffset&quot;: null, &quot;fill&quot;: false, &quot;fillColor&quot;: &quot;#3388ff&quot;, &quot;fillOpacity&quot;: 0.2, &quot;fillRule&quot;: &quot;evenodd&quot;, &quot;lineCap&quot;: &quot;round&quot;, &quot;lineJoin&quot;: &quot;round&quot;, &quot;noClip&quot;: false, &quot;opacity&quot;: 1.0, &quot;smoothFactor&quot;: 1.0, &quot;stroke&quot;: true, &quot;weight&quot;: 3}\n",
              "            ).addTo(map_e4c020e99e6bbfb13466a2681c7dabd8);\n",
              "        \n",
              "    \n",
              "            var poly_line_49c6555b56f362c2336f07d27fc6fe5b = L.polyline(\n",
              "                [[24.927344605010088, 67.10854256672428], [24.925710113846367, 67.10556275612112]],\n",
              "                {&quot;bubblingMouseEvents&quot;: true, &quot;color&quot;: &quot;#3388ff&quot;, &quot;dashArray&quot;: null, &quot;dashOffset&quot;: null, &quot;fill&quot;: false, &quot;fillColor&quot;: &quot;#3388ff&quot;, &quot;fillOpacity&quot;: 0.2, &quot;fillRule&quot;: &quot;evenodd&quot;, &quot;lineCap&quot;: &quot;round&quot;, &quot;lineJoin&quot;: &quot;round&quot;, &quot;noClip&quot;: false, &quot;opacity&quot;: 1.0, &quot;smoothFactor&quot;: 1.0, &quot;stroke&quot;: true, &quot;weight&quot;: 3}\n",
              "            ).addTo(map_e4c020e99e6bbfb13466a2681c7dabd8);\n",
              "        \n",
              "    \n",
              "            var poly_line_0dd472544885766c19da953ff7609cf5 = L.polyline(\n",
              "                [[24.925710113846367, 67.10556275612112], [24.911732513442047, 67.11280525252674]],\n",
              "                {&quot;bubblingMouseEvents&quot;: true, &quot;color&quot;: &quot;#3388ff&quot;, &quot;dashArray&quot;: null, &quot;dashOffset&quot;: null, &quot;fill&quot;: false, &quot;fillColor&quot;: &quot;#3388ff&quot;, &quot;fillOpacity&quot;: 0.2, &quot;fillRule&quot;: &quot;evenodd&quot;, &quot;lineCap&quot;: &quot;round&quot;, &quot;lineJoin&quot;: &quot;round&quot;, &quot;noClip&quot;: false, &quot;opacity&quot;: 1.0, &quot;smoothFactor&quot;: 1.0, &quot;stroke&quot;: true, &quot;weight&quot;: 3}\n",
              "            ).addTo(map_e4c020e99e6bbfb13466a2681c7dabd8);\n",
              "        \n",
              "    \n",
              "            var poly_line_ebc2495b8d0db9a689fcba497bc1994f = L.polyline(\n",
              "                [[24.911732513442047, 67.11280525252674], [24.92660178394755, 67.1012721983808]],\n",
              "                {&quot;bubblingMouseEvents&quot;: true, &quot;color&quot;: &quot;#3388ff&quot;, &quot;dashArray&quot;: null, &quot;dashOffset&quot;: null, &quot;fill&quot;: false, &quot;fillColor&quot;: &quot;#3388ff&quot;, &quot;fillOpacity&quot;: 0.2, &quot;fillRule&quot;: &quot;evenodd&quot;, &quot;lineCap&quot;: &quot;round&quot;, &quot;lineJoin&quot;: &quot;round&quot;, &quot;noClip&quot;: false, &quot;opacity&quot;: 1.0, &quot;smoothFactor&quot;: 1.0, &quot;stroke&quot;: true, &quot;weight&quot;: 3}\n",
              "            ).addTo(map_e4c020e99e6bbfb13466a2681c7dabd8);\n",
              "        \n",
              "    \n",
              "            var poly_line_187a0d4b02f5c55ff5d73599853926ec = L.polyline(\n",
              "                [[24.927344605010088, 67.10854256672428], [24.91263280670944, 67.10864020283294]],\n",
              "                {&quot;bubblingMouseEvents&quot;: true, &quot;color&quot;: &quot;#3388ff&quot;, &quot;dashArray&quot;: null, &quot;dashOffset&quot;: null, &quot;fill&quot;: false, &quot;fillColor&quot;: &quot;#3388ff&quot;, &quot;fillOpacity&quot;: 0.2, &quot;fillRule&quot;: &quot;evenodd&quot;, &quot;lineCap&quot;: &quot;round&quot;, &quot;lineJoin&quot;: &quot;round&quot;, &quot;noClip&quot;: false, &quot;opacity&quot;: 1.0, &quot;smoothFactor&quot;: 1.0, &quot;stroke&quot;: true, &quot;weight&quot;: 3}\n",
              "            ).addTo(map_e4c020e99e6bbfb13466a2681c7dabd8);\n",
              "        \n",
              "    \n",
              "            var poly_line_d5c8fb4d782bfc8fdbba2fc6271442a0 = L.polyline(\n",
              "                [[24.927344605010088, 67.10854256672428], [24.93795163214233, 67.10643747800215]],\n",
              "                {&quot;bubblingMouseEvents&quot;: true, &quot;color&quot;: &quot;#3388ff&quot;, &quot;dashArray&quot;: null, &quot;dashOffset&quot;: null, &quot;fill&quot;: false, &quot;fillColor&quot;: &quot;#3388ff&quot;, &quot;fillOpacity&quot;: 0.2, &quot;fillRule&quot;: &quot;evenodd&quot;, &quot;lineCap&quot;: &quot;round&quot;, &quot;lineJoin&quot;: &quot;round&quot;, &quot;noClip&quot;: false, &quot;opacity&quot;: 1.0, &quot;smoothFactor&quot;: 1.0, &quot;stroke&quot;: true, &quot;weight&quot;: 3}\n",
              "            ).addTo(map_e4c020e99e6bbfb13466a2681c7dabd8);\n",
              "        \n",
              "    \n",
              "            var poly_line_b1e990d6b6736d6afcc14b3ad4213fa3 = L.polyline(\n",
              "                [[24.93795163214233, 67.10643747800215], [24.91116168856777, 67.11968598520187]],\n",
              "                {&quot;bubblingMouseEvents&quot;: true, &quot;color&quot;: &quot;#3388ff&quot;, &quot;dashArray&quot;: null, &quot;dashOffset&quot;: null, &quot;fill&quot;: false, &quot;fillColor&quot;: &quot;#3388ff&quot;, &quot;fillOpacity&quot;: 0.2, &quot;fillRule&quot;: &quot;evenodd&quot;, &quot;lineCap&quot;: &quot;round&quot;, &quot;lineJoin&quot;: &quot;round&quot;, &quot;noClip&quot;: false, &quot;opacity&quot;: 1.0, &quot;smoothFactor&quot;: 1.0, &quot;stroke&quot;: true, &quot;weight&quot;: 3}\n",
              "            ).addTo(map_e4c020e99e6bbfb13466a2681c7dabd8);\n",
              "        \n",
              "    \n",
              "            var poly_line_e906da34522f154c145db8985d276aa5 = L.polyline(\n",
              "                [[24.91366770940072, 67.10679143052128], [24.91500538036549, 67.10016174082996]],\n",
              "                {&quot;bubblingMouseEvents&quot;: true, &quot;color&quot;: &quot;#3388ff&quot;, &quot;dashArray&quot;: null, &quot;dashOffset&quot;: null, &quot;fill&quot;: false, &quot;fillColor&quot;: &quot;#3388ff&quot;, &quot;fillOpacity&quot;: 0.2, &quot;fillRule&quot;: &quot;evenodd&quot;, &quot;lineCap&quot;: &quot;round&quot;, &quot;lineJoin&quot;: &quot;round&quot;, &quot;noClip&quot;: false, &quot;opacity&quot;: 1.0, &quot;smoothFactor&quot;: 1.0, &quot;stroke&quot;: true, &quot;weight&quot;: 3}\n",
              "            ).addTo(map_e4c020e99e6bbfb13466a2681c7dabd8);\n",
              "        \n",
              "    \n",
              "            var poly_line_fd6d2d3598a45963748be33f99576876 = L.polyline(\n",
              "                [[24.911732513442047, 67.11280525252674], [24.926982153376787, 67.11026455091164]],\n",
              "                {&quot;bubblingMouseEvents&quot;: true, &quot;color&quot;: &quot;#3388ff&quot;, &quot;dashArray&quot;: null, &quot;dashOffset&quot;: null, &quot;fill&quot;: false, &quot;fillColor&quot;: &quot;#3388ff&quot;, &quot;fillOpacity&quot;: 0.2, &quot;fillRule&quot;: &quot;evenodd&quot;, &quot;lineCap&quot;: &quot;round&quot;, &quot;lineJoin&quot;: &quot;round&quot;, &quot;noClip&quot;: false, &quot;opacity&quot;: 1.0, &quot;smoothFactor&quot;: 1.0, &quot;stroke&quot;: true, &quot;weight&quot;: 3}\n",
              "            ).addTo(map_e4c020e99e6bbfb13466a2681c7dabd8);\n",
              "        \n",
              "    \n",
              "            var poly_line_e7ea7b0bea9b903fd54e5a8066c9332d = L.polyline(\n",
              "                [[24.926982153376787, 67.11026455091164], [24.91509607809531, 67.11994236565283]],\n",
              "                {&quot;bubblingMouseEvents&quot;: true, &quot;color&quot;: &quot;#3388ff&quot;, &quot;dashArray&quot;: null, &quot;dashOffset&quot;: null, &quot;fill&quot;: false, &quot;fillColor&quot;: &quot;#3388ff&quot;, &quot;fillOpacity&quot;: 0.2, &quot;fillRule&quot;: &quot;evenodd&quot;, &quot;lineCap&quot;: &quot;round&quot;, &quot;lineJoin&quot;: &quot;round&quot;, &quot;noClip&quot;: false, &quot;opacity&quot;: 1.0, &quot;smoothFactor&quot;: 1.0, &quot;stroke&quot;: true, &quot;weight&quot;: 3}\n",
              "            ).addTo(map_e4c020e99e6bbfb13466a2681c7dabd8);\n",
              "        \n",
              "    \n",
              "            var poly_line_21bfbf8013869b27c39da54bc97ada88 = L.polyline(\n",
              "                [[24.926982153376787, 67.11026455091164], [24.91989254882029, 67.11199493441029]],\n",
              "                {&quot;bubblingMouseEvents&quot;: true, &quot;color&quot;: &quot;#3388ff&quot;, &quot;dashArray&quot;: null, &quot;dashOffset&quot;: null, &quot;fill&quot;: false, &quot;fillColor&quot;: &quot;#3388ff&quot;, &quot;fillOpacity&quot;: 0.2, &quot;fillRule&quot;: &quot;evenodd&quot;, &quot;lineCap&quot;: &quot;round&quot;, &quot;lineJoin&quot;: &quot;round&quot;, &quot;noClip&quot;: false, &quot;opacity&quot;: 1.0, &quot;smoothFactor&quot;: 1.0, &quot;stroke&quot;: true, &quot;weight&quot;: 3}\n",
              "            ).addTo(map_e4c020e99e6bbfb13466a2681c7dabd8);\n",
              "        \n",
              "    \n",
              "            var poly_line_9cd54f9646c6f165ec743a27508d4688 = L.polyline(\n",
              "                [[24.911732513442047, 67.11280525252674], [24.91366770940072, 67.10679143052128]],\n",
              "                {&quot;bubblingMouseEvents&quot;: true, &quot;color&quot;: &quot;#3388ff&quot;, &quot;dashArray&quot;: null, &quot;dashOffset&quot;: null, &quot;fill&quot;: false, &quot;fillColor&quot;: &quot;#3388ff&quot;, &quot;fillOpacity&quot;: 0.2, &quot;fillRule&quot;: &quot;evenodd&quot;, &quot;lineCap&quot;: &quot;round&quot;, &quot;lineJoin&quot;: &quot;round&quot;, &quot;noClip&quot;: false, &quot;opacity&quot;: 1.0, &quot;smoothFactor&quot;: 1.0, &quot;stroke&quot;: true, &quot;weight&quot;: 3}\n",
              "            ).addTo(map_e4c020e99e6bbfb13466a2681c7dabd8);\n",
              "        \n",
              "    \n",
              "            var poly_line_fa3049229c78f9b7246c9b04868b183b = L.polyline(\n",
              "                [[24.92948548278363, 67.10575905588713], [24.930724110942197, 67.1045220435278]],\n",
              "                {&quot;bubblingMouseEvents&quot;: true, &quot;color&quot;: &quot;#3388ff&quot;, &quot;dashArray&quot;: null, &quot;dashOffset&quot;: null, &quot;fill&quot;: false, &quot;fillColor&quot;: &quot;#3388ff&quot;, &quot;fillOpacity&quot;: 0.2, &quot;fillRule&quot;: &quot;evenodd&quot;, &quot;lineCap&quot;: &quot;round&quot;, &quot;lineJoin&quot;: &quot;round&quot;, &quot;noClip&quot;: false, &quot;opacity&quot;: 1.0, &quot;smoothFactor&quot;: 1.0, &quot;stroke&quot;: true, &quot;weight&quot;: 3}\n",
              "            ).addTo(map_e4c020e99e6bbfb13466a2681c7dabd8);\n",
              "        \n",
              "    \n",
              "            var poly_line_83a19a58b9ca804e762605412dda1c3b = L.polyline(\n",
              "                [[24.930724110942197, 67.1045220435278], [24.93685395443507, 67.10468544936255]],\n",
              "                {&quot;bubblingMouseEvents&quot;: true, &quot;color&quot;: &quot;#3388ff&quot;, &quot;dashArray&quot;: null, &quot;dashOffset&quot;: null, &quot;fill&quot;: false, &quot;fillColor&quot;: &quot;#3388ff&quot;, &quot;fillOpacity&quot;: 0.2, &quot;fillRule&quot;: &quot;evenodd&quot;, &quot;lineCap&quot;: &quot;round&quot;, &quot;lineJoin&quot;: &quot;round&quot;, &quot;noClip&quot;: false, &quot;opacity&quot;: 1.0, &quot;smoothFactor&quot;: 1.0, &quot;stroke&quot;: true, &quot;weight&quot;: 3}\n",
              "            ).addTo(map_e4c020e99e6bbfb13466a2681c7dabd8);\n",
              "        \n",
              "    \n",
              "            var poly_line_f6a0d90f43d2fbc375a132a3262f795e = L.polyline(\n",
              "                [[24.93685395443507, 67.10468544936255], [24.9137492596974, 67.114093381518]],\n",
              "                {&quot;bubblingMouseEvents&quot;: true, &quot;color&quot;: &quot;#3388ff&quot;, &quot;dashArray&quot;: null, &quot;dashOffset&quot;: null, &quot;fill&quot;: false, &quot;fillColor&quot;: &quot;#3388ff&quot;, &quot;fillOpacity&quot;: 0.2, &quot;fillRule&quot;: &quot;evenodd&quot;, &quot;lineCap&quot;: &quot;round&quot;, &quot;lineJoin&quot;: &quot;round&quot;, &quot;noClip&quot;: false, &quot;opacity&quot;: 1.0, &quot;smoothFactor&quot;: 1.0, &quot;stroke&quot;: true, &quot;weight&quot;: 3}\n",
              "            ).addTo(map_e4c020e99e6bbfb13466a2681c7dabd8);\n",
              "        \n",
              "    \n",
              "            var poly_line_ead7a6e8cae672553b0e5805dc87f62b = L.polyline(\n",
              "                [[24.9137492596974, 67.114093381518], [24.921667132445467, 67.11482849708392]],\n",
              "                {&quot;bubblingMouseEvents&quot;: true, &quot;color&quot;: &quot;#3388ff&quot;, &quot;dashArray&quot;: null, &quot;dashOffset&quot;: null, &quot;fill&quot;: false, &quot;fillColor&quot;: &quot;#3388ff&quot;, &quot;fillOpacity&quot;: 0.2, &quot;fillRule&quot;: &quot;evenodd&quot;, &quot;lineCap&quot;: &quot;round&quot;, &quot;lineJoin&quot;: &quot;round&quot;, &quot;noClip&quot;: false, &quot;opacity&quot;: 1.0, &quot;smoothFactor&quot;: 1.0, &quot;stroke&quot;: true, &quot;weight&quot;: 3}\n",
              "            ).addTo(map_e4c020e99e6bbfb13466a2681c7dabd8);\n",
              "        \n",
              "    \n",
              "            var poly_line_7d59d75b2870bc82bb494e541f5a95a4 = L.polyline(\n",
              "                [[24.91263280670944, 67.10864020283294], [24.924105310272832, 67.1137070651443]],\n",
              "                {&quot;bubblingMouseEvents&quot;: true, &quot;color&quot;: &quot;#3388ff&quot;, &quot;dashArray&quot;: null, &quot;dashOffset&quot;: null, &quot;fill&quot;: false, &quot;fillColor&quot;: &quot;#3388ff&quot;, &quot;fillOpacity&quot;: 0.2, &quot;fillRule&quot;: &quot;evenodd&quot;, &quot;lineCap&quot;: &quot;round&quot;, &quot;lineJoin&quot;: &quot;round&quot;, &quot;noClip&quot;: false, &quot;opacity&quot;: 1.0, &quot;smoothFactor&quot;: 1.0, &quot;stroke&quot;: true, &quot;weight&quot;: 3}\n",
              "            ).addTo(map_e4c020e99e6bbfb13466a2681c7dabd8);\n",
              "        \n",
              "    \n",
              "            var poly_line_e57640a69f5a21acce903684eecdf116 = L.polyline(\n",
              "                [[24.924105310272832, 67.1137070651443], [24.91469901870831, 67.11791662583576]],\n",
              "                {&quot;bubblingMouseEvents&quot;: true, &quot;color&quot;: &quot;#3388ff&quot;, &quot;dashArray&quot;: null, &quot;dashOffset&quot;: null, &quot;fill&quot;: false, &quot;fillColor&quot;: &quot;#3388ff&quot;, &quot;fillOpacity&quot;: 0.2, &quot;fillRule&quot;: &quot;evenodd&quot;, &quot;lineCap&quot;: &quot;round&quot;, &quot;lineJoin&quot;: &quot;round&quot;, &quot;noClip&quot;: false, &quot;opacity&quot;: 1.0, &quot;smoothFactor&quot;: 1.0, &quot;stroke&quot;: true, &quot;weight&quot;: 3}\n",
              "            ).addTo(map_e4c020e99e6bbfb13466a2681c7dabd8);\n",
              "        \n",
              "    \n",
              "            var tile_layer_cdc816b3097e2c2557e2ca207060f691 = L.tileLayer(\n",
              "                &quot;https://{s}.tile.openstreetmap.org/{z}/{x}/{y}.png&quot;,\n",
              "                {&quot;attribution&quot;: &quot;Data by \\u0026copy; \\u003ca target=\\&quot;_blank\\&quot; href=\\&quot;http://openstreetmap.org\\&quot;\\u003eOpenStreetMap\\u003c/a\\u003e, under \\u003ca target=\\&quot;_blank\\&quot; href=\\&quot;http://www.openstreetmap.org/copyright\\&quot;\\u003eODbL\\u003c/a\\u003e.&quot;, &quot;detectRetina&quot;: false, &quot;maxNativeZoom&quot;: 18, &quot;maxZoom&quot;: 18, &quot;minZoom&quot;: 0, &quot;noWrap&quot;: false, &quot;opacity&quot;: 1, &quot;subdomains&quot;: &quot;abc&quot;, &quot;tms&quot;: false}\n",
              "            ).addTo(map_e4c020e99e6bbfb13466a2681c7dabd8);\n",
              "        \n",
              "    \n",
              "            var tile_layer_6901ec72cfcc85e7edbbea09712054cd = L.tileLayer(\n",
              "                &quot;https://stamen-tiles-{s}.a.ssl.fastly.net/terrain/{z}/{x}/{y}.jpg&quot;,\n",
              "                {&quot;attribution&quot;: &quot;Map tiles by \\u003ca target=\\&quot;_blank\\&quot; href=\\&quot;http://stamen.com\\&quot;\\u003eStamen Design\\u003c/a\\u003e, under \\u003ca target=\\&quot;_blank\\&quot; href=\\&quot;http://creativecommons.org/licenses/by/3.0\\&quot;\\u003eCC BY 3.0\\u003c/a\\u003e. Data by \\u0026copy; \\u003ca target=\\&quot;_blank\\&quot; href=\\&quot;http://openstreetmap.org\\&quot;\\u003eOpenStreetMap\\u003c/a\\u003e, under \\u003ca target=\\&quot;_blank\\&quot; href=\\&quot;http://creativecommons.org/licenses/by-sa/3.0\\&quot;\\u003eCC BY SA\\u003c/a\\u003e.&quot;, &quot;detectRetina&quot;: false, &quot;maxNativeZoom&quot;: 18, &quot;maxZoom&quot;: 18, &quot;minZoom&quot;: 0, &quot;noWrap&quot;: false, &quot;opacity&quot;: 1, &quot;subdomains&quot;: &quot;abc&quot;, &quot;tms&quot;: false}\n",
              "            ).addTo(map_e4c020e99e6bbfb13466a2681c7dabd8);\n",
              "        \n",
              "    \n",
              "            var tile_layer_8e4f7a7603539bcfc2e3b3ac0ade5837 = L.tileLayer(\n",
              "                &quot;https://stamen-tiles-{s}.a.ssl.fastly.net/toner/{z}/{x}/{y}.png&quot;,\n",
              "                {&quot;attribution&quot;: &quot;Map tiles by \\u003ca target=\\&quot;_blank\\&quot; href=\\&quot;http://stamen.com\\&quot;\\u003eStamen Design\\u003c/a\\u003e, under \\u003ca target=\\&quot;_blank\\&quot; href=\\&quot;http://creativecommons.org/licenses/by/3.0\\&quot;\\u003eCC BY 3.0\\u003c/a\\u003e. Data by \\u0026copy; \\u003ca target=\\&quot;_blank\\&quot; href=\\&quot;http://openstreetmap.org\\&quot;\\u003eOpenStreetMap\\u003c/a\\u003e, under \\u003ca target=\\&quot;_blank\\&quot; href=\\&quot;http://www.openstreetmap.org/copyright\\&quot;\\u003eODbL\\u003c/a\\u003e.&quot;, &quot;detectRetina&quot;: false, &quot;maxNativeZoom&quot;: 18, &quot;maxZoom&quot;: 18, &quot;minZoom&quot;: 0, &quot;noWrap&quot;: false, &quot;opacity&quot;: 1, &quot;subdomains&quot;: &quot;abc&quot;, &quot;tms&quot;: false}\n",
              "            ).addTo(map_e4c020e99e6bbfb13466a2681c7dabd8);\n",
              "        \n",
              "    \n",
              "            var tile_layer_050d1768e4d0b00f5ef107f5ac9aa9ec = L.tileLayer(\n",
              "                &quot;https://stamen-tiles-{s}.a.ssl.fastly.net/watercolor/{z}/{x}/{y}.jpg&quot;,\n",
              "                {&quot;attribution&quot;: &quot;Map tiles by \\u003ca target=\\&quot;_blank\\&quot; href=\\&quot;http://stamen.com\\&quot;\\u003eStamen Design\\u003c/a\\u003e, under \\u003ca target=\\&quot;_blank\\&quot; href=\\&quot;http://creativecommons.org/licenses/by/3.0\\&quot;\\u003eCC BY 3.0\\u003c/a\\u003e. Data by \\u0026copy; \\u003ca target=\\&quot;_blank\\&quot; href=\\&quot;http://openstreetmap.org\\&quot;\\u003eOpenStreetMap\\u003c/a\\u003e, under \\u003ca target=\\&quot;_blank\\&quot; href=\\&quot;http://creativecommons.org/licenses/by-sa/3.0\\&quot;\\u003eCC BY SA\\u003c/a\\u003e.&quot;, &quot;detectRetina&quot;: false, &quot;maxNativeZoom&quot;: 18, &quot;maxZoom&quot;: 18, &quot;minZoom&quot;: 0, &quot;noWrap&quot;: false, &quot;opacity&quot;: 1, &quot;subdomains&quot;: &quot;abc&quot;, &quot;tms&quot;: false}\n",
              "            ).addTo(map_e4c020e99e6bbfb13466a2681c7dabd8);\n",
              "        \n",
              "    \n",
              "            var tile_layer_3199de4e2931bee540858c246dc719f6 = L.tileLayer(\n",
              "                &quot;https://cartodb-basemaps-{s}.global.ssl.fastly.net/light_all/{z}/{x}/{y}.png&quot;,\n",
              "                {&quot;attribution&quot;: &quot;\\u0026copy; \\u003ca target=\\&quot;_blank\\&quot; href=\\&quot;http://www.openstreetmap.org/copyright\\&quot;\\u003eOpenStreetMap\\u003c/a\\u003e contributors \\u0026copy; \\u003ca target=\\&quot;_blank\\&quot; href=\\&quot;http://cartodb.com/attributions\\&quot;\\u003eCartoDB\\u003c/a\\u003e, CartoDB \\u003ca target=\\&quot;_blank\\&quot; href =\\&quot;http://cartodb.com/attributions\\&quot;\\u003eattributions\\u003c/a\\u003e&quot;, &quot;detectRetina&quot;: false, &quot;maxNativeZoom&quot;: 18, &quot;maxZoom&quot;: 18, &quot;minZoom&quot;: 0, &quot;noWrap&quot;: false, &quot;opacity&quot;: 1, &quot;subdomains&quot;: &quot;abc&quot;, &quot;tms&quot;: false}\n",
              "            ).addTo(map_e4c020e99e6bbfb13466a2681c7dabd8);\n",
              "        \n",
              "    \n",
              "            var tile_layer_d7b5d3ba33abbc9048a231e6f7036722 = L.tileLayer(\n",
              "                &quot;https://cartodb-basemaps-{s}.global.ssl.fastly.net/dark_all/{z}/{x}/{y}.png&quot;,\n",
              "                {&quot;attribution&quot;: &quot;\\u0026copy; \\u003ca target=\\&quot;_blank\\&quot; href=\\&quot;http://www.openstreetmap.org/copyright\\&quot;\\u003eOpenStreetMap\\u003c/a\\u003e contributors \\u0026copy; \\u003ca target=\\&quot;_blank\\&quot; href=\\&quot;http://cartodb.com/attributions\\&quot;\\u003eCartoDB\\u003c/a\\u003e, CartoDB \\u003ca target=\\&quot;_blank\\&quot; href =\\&quot;http://cartodb.com/attributions\\&quot;\\u003eattributions\\u003c/a\\u003e&quot;, &quot;detectRetina&quot;: false, &quot;maxNativeZoom&quot;: 18, &quot;maxZoom&quot;: 18, &quot;minZoom&quot;: 0, &quot;noWrap&quot;: false, &quot;opacity&quot;: 1, &quot;subdomains&quot;: &quot;abc&quot;, &quot;tms&quot;: false}\n",
              "            ).addTo(map_e4c020e99e6bbfb13466a2681c7dabd8);\n",
              "        \n",
              "    \n",
              "            var layer_control_dc3fe542b334681ce6ee8b3c1194c3c0 = {\n",
              "                base_layers : {\n",
              "                    &quot;openstreetmap&quot; : tile_layer_cdc816b3097e2c2557e2ca207060f691,\n",
              "                    &quot;stamenterrain&quot; : tile_layer_6901ec72cfcc85e7edbbea09712054cd,\n",
              "                    &quot;stamentoner&quot; : tile_layer_8e4f7a7603539bcfc2e3b3ac0ade5837,\n",
              "                    &quot;stamenwatercolor&quot; : tile_layer_050d1768e4d0b00f5ef107f5ac9aa9ec,\n",
              "                    &quot;cartodbpositron&quot; : tile_layer_3199de4e2931bee540858c246dc719f6,\n",
              "                    &quot;cartodbdark_matter&quot; : tile_layer_d7b5d3ba33abbc9048a231e6f7036722,\n",
              "                },\n",
              "                overlays :  {\n",
              "                },\n",
              "            };\n",
              "            L.control.layers(\n",
              "                layer_control_dc3fe542b334681ce6ee8b3c1194c3c0.base_layers,\n",
              "                layer_control_dc3fe542b334681ce6ee8b3c1194c3c0.overlays,\n",
              "                {&quot;autoZIndex&quot;: true, &quot;collapsed&quot;: true, &quot;position&quot;: &quot;topright&quot;}\n",
              "            ).addTo(map_e4c020e99e6bbfb13466a2681c7dabd8);\n",
              "            tile_layer_6901ec72cfcc85e7edbbea09712054cd.remove();\n",
              "            tile_layer_8e4f7a7603539bcfc2e3b3ac0ade5837.remove();\n",
              "            tile_layer_050d1768e4d0b00f5ef107f5ac9aa9ec.remove();\n",
              "            tile_layer_3199de4e2931bee540858c246dc719f6.remove();\n",
              "            tile_layer_d7b5d3ba33abbc9048a231e6f7036722.remove();\n",
              "        \n",
              "&lt;/script&gt;\n",
              "&lt;/html&gt;\" style=\"position:absolute;width:100%;height:100%;left:0;top:0;border:none !important;\" allowfullscreen webkitallowfullscreen mozallowfullscreen></iframe></div></div>"
            ],
            "text/plain": [
              "<folium.folium.Map at 0x19f7b477010>"
            ]
          },
          "execution_count": 110,
          "metadata": {},
          "output_type": "execute_result"
        }
      ],
      "source": [
        "bus_df = pd.DataFrame({'latitude': bus_lats,\n",
        "                        'longitude': bus_longs,\n",
        "                        'icon_num': buses\n",
        "                    })\n",
        "\n",
        "transformer_df = pd.DataFrame({\n",
        "                        \n",
        "                        'latitude': trans_lat,\n",
        "                        'longitude': trans_long,\n",
        "                        'icon_num': [transformers[i].split(\".\")[-1] for i in range(len(transformers))]\n",
        "                    })\n",
        "\n",
        "# map\n",
        "m = folium.Map(location=[24.9360971,67.1063258], zoom_start=15)\n",
        "\n",
        "# icons using plugins.BeautifyIcon\n",
        "for i in bus_df.itertuples():\n",
        "    folium.Marker(location=[i.latitude, i.longitude],\n",
        "                  #popup=i.buses,\n",
        "                  icon=plugins.BeautifyIcon(number=i.icon_num,\n",
        "                                            border_color='blue',\n",
        "                                            border_width=2,\n",
        "                                            text_color='red',\n",
        "                                            inner_icon_style='margin-top:0px;')).add_to(m)\n",
        "    \n",
        "for i in transformer_df.itertuples():\n",
        "    folium.Marker(location=[i.latitude, i.longitude],\n",
        "                  #popup=i.buses,\n",
        "                  icon=plugins.BeautifyIcon(number=i.icon_num,\n",
        "                                            border_color='blue',\n",
        "                                            border_width=2,\n",
        "                                            text_color='red',\n",
        "                                            inner_icon_style='margin-top:0px;')).add_to(m)\n",
        "\n",
        "line_lats_longs = []\n",
        "for line in lines:\n",
        "    dss.circuit_set_active_element(line)\n",
        "    bus1 = dss.lines_read_bus1()\n",
        "    bus2 = dss.lines_read_bus2()\n",
        "    dss.circuit_set_active_bus(bus1)\n",
        "    bus1_lat = dss.bus_read_latitude()\n",
        "    bus1_long = dss.bus_read_longitude()\n",
        "    dss.circuit_set_active_bus(bus2)\n",
        "    bus2_lat = dss.bus_read_latitude()\n",
        "    bus2_long = dss.bus_read_longitude()\n",
        "    line_lats_longs.append([[bus1_lat, bus1_long],[bus2_lat, bus2_long]])\n",
        "    print(line, bus1, bus2)\n",
        "\n",
        "\n",
        "line_lats_longs.append([[24.92948548278363,67.10575905588713],[24.930724110942197, 67.1045220435278]])\n",
        "line_lats_longs.append([[24.930724110942197, 67.1045220435278],[24.93685395443507,67.10468544936255]])\n",
        "line_lats_longs.append([[24.93685395443507,67.10468544936255],[24.9137492596974, 67.114093381518]])\n",
        "line_lats_longs.append([[24.9137492596974, 67.114093381518],[24.921667132445467,67.11482849708392]])\n",
        "line_lats_longs.append([[24.91263280670944,67.10864020283294],[24.924105310272832, 67.1137070651443]])\n",
        "line_lats_longs.append([[24.924105310272832, 67.1137070651443],[24.91469901870831,67.11791662583576]])\n",
        "\n",
        "# add route to map\n",
        "for item in line_lats_longs:\n",
        "    folium.PolyLine(item).add_to(m)\n",
        "\n",
        "\n",
        "# add tiles to map\n",
        "folium.raster_layers.TileLayer('Open Street Map').add_to(m)\n",
        "folium.raster_layers.TileLayer('Stamen Terrain').add_to(m)\n",
        "folium.raster_layers.TileLayer('Stamen Toner').add_to(m)\n",
        "folium.raster_layers.TileLayer('Stamen Watercolor').add_to(m)\n",
        "folium.raster_layers.TileLayer('CartoDB Positron').add_to(m)\n",
        "folium.raster_layers.TileLayer('CartoDB Dark_Matter').add_to(m)\n",
        "\n",
        "# add layer control to show different maps\n",
        "folium.LayerControl().add_to(m)\n",
        "\n",
        "# display map    \n",
        "m"
      ]
    }
  ],
  "metadata": {
    "colab": {
      "provenance": []
    },
    "kernelspec": {
      "display_name": "Python 3.11.0 64-bit",
      "language": "python",
      "name": "python3"
    },
    "language_info": {
      "codemirror_mode": {
        "name": "ipython",
        "version": 3
      },
      "file_extension": ".py",
      "mimetype": "text/x-python",
      "name": "python",
      "nbconvert_exporter": "python",
      "pygments_lexer": "ipython3",
      "version": "3.11.0"
    },
    "orig_nbformat": 4,
    "vscode": {
      "interpreter": {
        "hash": "1d0a4022385fbeeefa5c51dae3228dc91989fcb3866060f76c5479348db421a5"
      }
    }
  },
  "nbformat": 4,
  "nbformat_minor": 0
}
